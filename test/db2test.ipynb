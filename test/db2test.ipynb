{
 "cells": [
  {
   "cell_type": "code",
   "execution_count": 3,
   "metadata": {
    "collapsed": true
   },
   "outputs": [
    {
     "name": "stdout",
     "output_type": "stream",
     "text": [
      "0\n"
     ]
    }
   ],
   "source": [
    "if type(b'~\\x02\\x00\\x00&\\x01#Eg\\x89\\x12\\x01\\xa7\\x00\\x00\\x00\\x00\\x00\\x00\\x00\\x03\\x02a\\x13a\\x06\\xf0\\x12M\\x00X\\x02\\x94\\x00\\x00#\\x03$\\x02\\x02A\\x01\\x04\\x00\\x00\\x04\\xce\\x02\\x02\\x00\\x00\\xe6~') in (type([]), type(())):\n",
    "    print('1')\n",
    "else:\n",
    "    print('0')"
   ]
  },
  {
   "cell_type": "code",
   "execution_count": 8,
   "outputs": [
    {
     "name": "stdout",
     "output_type": "stream",
     "text": [
      "1\n"
     ]
    }
   ],
   "source": [
    "a=[b'~\\x02\\x00\\x00&\\x01#Eg\\x89\\x12\\x01\\xbd\\x00\\x00\\x00\\x00\\x00\\x00\\x00\\x03\\x02a\\x13a\\x06\\xf0\\x12M\\x00X\\x02\\x94\\x00\\x00#\\x03$\\x02\\x07V\\x01\\x04\\x00\\x00\\x04\\xce\\x02\\x02\\x00\\x00\\xee~']\n",
    "if type(a) in (type([]), type(())) and len(a)>0:\n",
    "    print('1')\n",
    "else:\n",
    "    print('0')"
   ],
   "metadata": {
    "collapsed": false
   }
  },
  {
   "cell_type": "code",
   "execution_count": 4,
   "outputs": [
    {
     "data": {
      "text/plain": "(list, tuple)"
     },
     "execution_count": 4,
     "metadata": {},
     "output_type": "execute_result"
    }
   ],
   "source": [
    "(type([]), type(()))"
   ],
   "metadata": {
    "collapsed": false
   }
  },
  {
   "cell_type": "code",
   "execution_count": 6,
   "outputs": [
    {
     "data": {
      "text/plain": "list"
     },
     "execution_count": 6,
     "metadata": {},
     "output_type": "execute_result"
    }
   ],
   "source": [
    "type([b'~\\x02\\x00\\x00&\\x01#Eg\\x89\\x12\\x01\\xa7\\x00\\x00\\x00\\x00\\x00\\x00\\x00\\x03\\x02a\\x13a\\x06\\xf0\\x12M\\x00X\\x02\\x94\\x00\\x00#\\x03$\\x02\\x02A\\x01\\x04\\x00\\x00\\x04\\xce\\x02\\x02\\x00\\x00\\xe6~'])"
   ],
   "metadata": {
    "collapsed": false
   }
  },
  {
   "cell_type": "code",
   "execution_count": 7,
   "outputs": [
    {
     "data": {
      "text/plain": "list"
     },
     "execution_count": 7,
     "metadata": {},
     "output_type": "execute_result"
    }
   ],
   "source": [
    "type([b'~\\x02\\x00\\x00&\\x01#Eg\\x89\\x12\\x01\\xbd\\x00\\x00\\x00\\x00\\x00\\x00\\x00\\x03\\x02a\\x13a\\x06\\xf0\\x12M\\x00X\\x02\\x94\\x00\\x00#\\x03$\\x02\\x07V\\x01\\x04\\x00\\x00\\x04\\xce\\x02\\x02\\x00\\x00\\xee~'])"
   ],
   "metadata": {
    "collapsed": false
   }
  },
  {
   "cell_type": "code",
   "execution_count": 18,
   "outputs": [
    {
     "name": "stdout",
     "output_type": "stream",
     "text": [
      "msgid是0或8开头\n"
     ]
    }
   ],
   "source": [
    "def ParseData(data):\n",
    "    # 转换成bytes\n",
    "    def ToBytearray(data):\n",
    "        ba = bytearray()\n",
    "        for i in range(0, len(data), 2):\n",
    "            tmp = int(data[i:i+2], 16)\n",
    "            ba.append(tmp)\n",
    "        return ba\n",
    "    # 反转义\n",
    "\n",
    "    def Unescape(data=b''):\n",
    "        #self.LOGD(\"data:\" + str(data))\n",
    "        length = data[2] << 8 | data[3]\n",
    "        if 12 + length + 1 == len(data):\n",
    "            #self.LOGD(\"No escape\")\n",
    "            print(\"No escape\")\n",
    "        else:\n",
    "            data = data.replace(b'\\x7d\\x02', b'\\x7e')\n",
    "            data = data.replace(b'\\x7d\\x01', b'\\x7d')\n",
    "        return data\n",
    "\n",
    "    # 去空格\n",
    "    data = str(data)\n",
    "    buffer = data.replace(' ', '').upper()\n",
    "    if buffer.startswith(\"7E\"):\n",
    "        buffer = buffer[2:]\n",
    "    if buffer.endswith(\"7E\"):\n",
    "        buffer = buffer[:-2]\n",
    "    if len(buffer) == 0 or len(buffer) / 2 == 1:\n",
    "        #self.LOGI(\"长度不应为0 或 单数\")\n",
    "        print(\"长度不应为0 或 单数\")\n",
    "        return None\n",
    "\n",
    "    if buffer[0] != '0' and buffer[0] != '8':\n",
    "        #self.LOGI(\"msgid是0或8开头\")\n",
    "        print(\"msgid是0或8开头\")\n",
    "        return None\n",
    "\n",
    "    try:\n",
    "        buffer = ToBytearray(buffer)\n",
    "        buffer = Unescape(buffer)\n",
    "    except Exception as e:\n",
    "        #self.LOGE(\"Reverse>>\" + str(e) + '|' + str(data))\n",
    "        buffer = None\n",
    "    #else:\n",
    "    #    if self.lastData == buffer:\n",
    "    #        #self.LOGI(\"self.lastData == buffer\")\n",
    "    #        return None\n",
    "    #    self.lastData = buffer\n",
    "    #    buffer = buffer[:-1]  # 跳过校验码\n",
    "\n",
    "    if None == buffer:\n",
    "        #self.LOGI(\"None == buffer\")\n",
    "        return None\n",
    "\n",
    "    offset = 0\n",
    "    #try:\n",
    "    #    header = self.ParseHeader(buffer)\n",
    "    #except Exception as e:\n",
    "    #    self.LOGE(str(e))\n",
    "    #    header = None\n",
    "\n",
    "    #if None == header:\n",
    "    #    self.LOGE(data)\n",
    "    #    return None\n",
    "\n",
    "    #msgId = header.get(\"MsgId\")\n",
    "    #if None == msgId:\n",
    "    #    return None\n",
    "\n",
    "    # if msgId == 0x0200:\n",
    "    #    self.cnt0200 = self.cnt0200 + 1\n",
    "    #    print(self.cnt0200)\n",
    "    #self.LOGD(\"msgId:%04X\" % msgId)\n",
    "    #handle = self.handleDict.get(msgId)\n",
    "    #if handle == None:\n",
    "    #    #self.LOGW(u\"未处理的消息: %04X >> %s\" % (msgId, data))\n",
    "    #    return (header, None)\n",
    "\n",
    "    try:\n",
    "        offset = 12\n",
    "        #body = handle(buffer[offset:])\n",
    "    except Exception as e:\n",
    "        body = None\n",
    "        #self.LOGE(data)\n",
    "        #self.LOGE(self.BytesLog(buffer))\n",
    "        # self.LOGE(self.BytesLog(buffer[offset:]))\n",
    "        #self.LOGE(handle.__name__ + \">>\" + str(e))\n",
    "    else:\n",
    "        if type(body) == type(dict()):\n",
    "            temp = ''\n",
    "            for b in buffer[offset:]:\n",
    "                temp = temp + '%02X ' % b\n",
    "            body[\"BodyData\"] = temp.strip()\n",
    "\n",
    "    return (body)\n",
    "\n",
    "data=b'~\\x02\\x00\\x00&\\x01#Eg\\x89\\x12\\x01\\xbd\\x00\\x00\\x00\\x00\\x00\\x00\\x00\\x03\\x02a\\x13a\\x06\\xf0\\x12M\\x00X\\x02\\x94\\x00\\x00#\\x03$\\x02\\x07V\\x01\\x04\\x00\\x00\\x04\\xce\\x02\\x02\\x00\\x00\\xee~'\n",
    "ParseData(data)"
   ],
   "metadata": {
    "collapsed": false
   }
  },
  {
   "cell_type": "code",
   "execution_count": 4,
   "outputs": [
    {
     "name": "stdout",
     "output_type": "stream",
     "text": [
      "['a', 'b']\n",
      "['[', \"'\", 'a', \"'\", ',', ' ', \"'\", 'b', \"'\", ']']\n"
     ]
    }
   ],
   "source": [
    "a = str(['a','b'])\n",
    "b = list(a)\n",
    "print (a)\n",
    "print (b)"
   ],
   "metadata": {
    "collapsed": false
   }
  },
  {
   "cell_type": "code",
   "execution_count": 6,
   "outputs": [
    {
     "name": "stdout",
     "output_type": "stream",
     "text": [
      "\\'\n"
     ]
    }
   ],
   "source": [
    "a = \"'\"\n",
    "b = a.replace(\"'\",\"\\\\'\")\n",
    "print(b)"
   ],
   "metadata": {
    "collapsed": false
   }
  },
  {
   "cell_type": "code",
   "execution_count": null,
   "outputs": [],
   "source": [
    "import ibm_db\n"
   ],
   "metadata": {
    "collapsed": false
   }
  }
 ],
 "metadata": {
  "kernelspec": {
   "display_name": "Python 3",
   "language": "python",
   "name": "python3"
  },
  "language_info": {
   "codemirror_mode": {
    "name": "ipython",
    "version": 2
   },
   "file_extension": ".py",
   "mimetype": "text/x-python",
   "name": "python",
   "nbconvert_exporter": "python",
   "pygments_lexer": "ipython2",
   "version": "2.7.6"
  }
 },
 "nbformat": 4,
 "nbformat_minor": 0
}
