{
 "cells": [
  {
   "cell_type": "code",
   "execution_count": 6,
   "outputs": [
    {
     "ename": "Error",
     "evalue": "Odd-length string",
     "output_type": "error",
     "traceback": [
      "\u001B[1;31m---------------------------------------------------------------------------\u001B[0m",
      "\u001B[1;31mError\u001B[0m                                     Traceback (most recent call last)",
      "Cell \u001B[1;32mIn[6], line 3\u001B[0m\n\u001B[0;32m      1\u001B[0m \u001B[38;5;28;01mimport\u001B[39;00m \u001B[38;5;21;01mbinascii\u001B[39;00m\n\u001B[0;32m      2\u001B[0m a \u001B[38;5;241m=\u001B[39m \u001B[38;5;124m'\u001B[39m\u001B[38;5;124m7e810000080160534891110000002900186698604259e7e\u001B[39m\u001B[38;5;124m'\u001B[39m\n\u001B[1;32m----> 3\u001B[0m b \u001B[38;5;241m=\u001B[39m \u001B[43mbinascii\u001B[49m\u001B[38;5;241;43m.\u001B[39;49m\u001B[43ma2b_hex\u001B[49m\u001B[43m(\u001B[49m\u001B[43ma\u001B[49m\u001B[38;5;241;43m.\u001B[39;49m\u001B[43mencode\u001B[49m\u001B[43m(\u001B[49m\u001B[43m)\u001B[49m\u001B[43m)\u001B[49m\n\u001B[0;32m      4\u001B[0m \u001B[38;5;28mprint\u001B[39m (b)\n",
      "\u001B[1;31mError\u001B[0m: Odd-length string"
     ]
    }
   ],
   "source": [
    "import binascii\n",
    "a = '7e810000080160534891110000002900186698604259e7e'\n",
    "b = binascii.a2b_hex(a.encode())\n",
    "print (b)"
   ],
   "metadata": {
    "collapsed": false
   }
  },
  {
   "cell_type": "code",
   "execution_count": 13,
   "outputs": [
    {
     "name": "stdout",
     "output_type": "stream",
     "text": [
      "2 {'dev_upload': '2023-04-06 05:57:45', 'device_id': '16053489111', 'dirct': '180', 'gnss_num': 11, 'hight': '0', 'lat': 36.216784, 'lng': 120.429945, 'mileage': 84.9, 'rssi': 0, 'serv_receive': '2023-04-05 21:58:00', 'speed': '54', 'status': \"['acc_off', 'track', 'oil_normal', 'ele_cut']\"}\n",
      "1 {'alarm': \"['power_cut']\", 'dev_upload': '2023-04-06 05:57:51', 'device_id': '16053489111', 'dirct': '183', 'gnss_num': 20, 'hight': '0', 'lat': 36.216119, 'lng': 120.429944, 'mileage': 85, 'rssi': 25, 'serv_receive': '2023-04-05 21:58:00', 'speed': '50'}\n"
     ]
    }
   ],
   "source": [
    "a={\n",
    "    \"all_loca\":[\n",
    "        {\n",
    "            \"alarm\":\"[]\",\n",
    "            \"dev_upload\":\"2023-04-06 05:57:45\",\n",
    "            \"device_id\":\"16053489111\",\n",
    "            \"dirct\":\"180\",\n",
    "            \"gnss_num\":11,\n",
    "            \"hight\":\"0\",\n",
    "            \"lat\":36.216784,\n",
    "            \"lng\":120.429945,\n",
    "            \"mileage\":84.9,\n",
    "            \"rssi\":0,\n",
    "            \"serv_receive\":\"2023-04-05 21:58:00\",\n",
    "            \"speed\":\"54\",\n",
    "            \"status\":\"['acc_off', 'track', 'oil_normal', 'ele_cut']\"\n",
    "        },\n",
    "        {\n",
    "            \"alarm\":\"['power_cut']\",\n",
    "            \"dev_upload\":\"2023-04-06 05:57:51\",\n",
    "            \"device_id\":\"16053489111\",\n",
    "            \"dirct\":\"183\",\n",
    "            \"gnss_num\":20,\n",
    "            \"hight\":\"0\",\n",
    "            \"lat\":36.216119,\n",
    "            \"lng\":120.429944,\n",
    "            \"mileage\":85,\n",
    "            \"rssi\":25,\n",
    "            \"serv_receive\":\"2023-04-05 21:58:00\",\n",
    "            \"speed\":\"50\",\n",
    "            \"status\":\"['acc_off', 'track', 'oil_normal', 'ele_cut']\"\n",
    "        }\n",
    "    ],\n",
    "    \"device_id\":\"16053489111\",\n",
    "    \"serv_receive\":\"2023-04-05 21:58:00\"\n",
    "}\n",
    "\n",
    "\n",
    "b=a['all_loca']\n",
    "#print (b)\n",
    "for c in b:\n",
    "    if c.get('alarm') != '[]' and c.get('alarm') != None:\n",
    "        print(1,c)\n",
    "    if 'status' in c:\n",
    "        print(2,c)"
   ],
   "metadata": {
    "collapsed": false
   }
  },
  {
   "cell_type": "code",
   "execution_count": 29,
   "outputs": [
    {
     "name": "stdout",
     "output_type": "stream",
     "text": [
      "1 (1, 2, 3)\n",
      "2 [1, 2, 3]\n",
      "4 1\n",
      "4 2\n",
      "4 3\n"
     ]
    }
   ],
   "source": [
    "a = 1,2,3\n",
    "#a = str(a)\n",
    "print (1,a)\n",
    "if not isinstance(a,list):\n",
    "    a = list(a)\n",
    "    print (2,a)\n",
    "else:\n",
    "    print (3,a)\n",
    "\n",
    "for b in a:\n",
    "    print (4,b)"
   ],
   "metadata": {
    "collapsed": false
   }
  },
  {
   "cell_type": "code",
   "execution_count": 23,
   "outputs": [
    {
     "ename": "TypeError",
     "evalue": "'int' object is not iterable",
     "output_type": "error",
     "traceback": [
      "\u001B[1;31m---------------------------------------------------------------------------\u001B[0m",
      "\u001B[1;31mTypeError\u001B[0m                                 Traceback (most recent call last)",
      "Cell \u001B[1;32mIn[23], line 1\u001B[0m\n\u001B[1;32m----> 1\u001B[0m a\u001B[38;5;241m=\u001B[39m\u001B[38;5;28;43mlist\u001B[39;49m\u001B[43m(\u001B[49m\u001B[38;5;241;43m1\u001B[39;49m\u001B[43m)\u001B[49m\n\u001B[0;32m      2\u001B[0m \u001B[38;5;28mprint\u001B[39m (a)\n",
      "\u001B[1;31mTypeError\u001B[0m: 'int' object is not iterable"
     ]
    }
   ],
   "source": [
    "a=list(1)\n",
    "print (a)"
   ],
   "metadata": {
    "collapsed": false
   }
  },
  {
   "cell_type": "code",
   "execution_count": 32,
   "outputs": [
    {
     "name": "stdout",
     "output_type": "stream",
     "text": [
      "['oSzwJ6slKIl0m8nsXy3sCsGD1ing']\n"
     ]
    }
   ],
   "source": [
    "import requests\n",
    "import json\n",
    "\n",
    "def get_account():\n",
    "    next_openid = ''\n",
    "    url = f\"https://api.weixin.qq.com/cgi-bin/user/get?access_token=67_rHnobDUd6MfobC0inhBD3mO3l49GNUzGV--iWwZh0HODf_wD6rcDWGtHntlalQ7prZ5cWW3aNw1qRTbtCeh4VFL3PPJE_K3-TsM5iR6FcF1qRHt7yek-JpjM-6MIQQjAEAMUU&next_openid=\"\n",
    "    response = requests.get(url)\n",
    "    res = response.json()['data']['openid']\n",
    "    return res\n",
    "\n",
    "print (get_account())"
   ],
   "metadata": {
    "collapsed": false
   }
  }
 ],
 "metadata": {
  "kernelspec": {
   "display_name": "Python 3",
   "language": "python",
   "name": "python3"
  },
  "language_info": {
   "codemirror_mode": {
    "name": "ipython",
    "version": 2
   },
   "file_extension": ".py",
   "mimetype": "text/x-python",
   "name": "python",
   "nbconvert_exporter": "python",
   "pygments_lexer": "ipython2",
   "version": "2.7.6"
  }
 },
 "nbformat": 4,
 "nbformat_minor": 0
}
